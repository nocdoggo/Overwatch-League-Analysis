{
 "cells": [
  {
   "cell_type": "markdown",
   "id": "8993dc4c",
   "metadata": {},
   "source": [
    "`Group #: 7`\n",
    "\n",
    "# Path To eSports God"
   ]
  },
  {
   "attachments": {},
   "cell_type": "markdown",
   "id": "298f7b93",
   "metadata": {},
   "source": [
    "## 1. Introduction\n",
    "\n",
    "Many of us are cultured people, and there are many things we like in the digital world. Indeed, some of the products would indeed use some special features to captivate our minds, and ultimately, our wallets.\n",
    "\n",
    "![overbutts](images/ob.jpg)\n",
    "\n",
    "Those special features can give you a blast for a short time. However, once you engage in the game, you rarely have the opportunities to enjoy those features as the combats require your physical attentions. Therefore, you might wonder, when the fun goes away, how would you entertain yourself or get any use out of it?\n",
    "\n",
    "![seagull](images/seagull.jpeg)\n",
    "\n",
    "However, by the turn of 2016, things change radically as the eSports industry expanded rapidly. And Brandon Larned used his personal experiences to skew the major expected benefits of obtaining a \n",
    "\n"
   ]
  },
  {
   "cell_type": "code",
   "execution_count": null,
   "id": "8e286feb",
   "metadata": {},
   "outputs": [],
   "source": []
  }
 ],
 "metadata": {
  "kernelspec": {
   "display_name": "Python 3 (ipykernel)",
   "language": "python",
   "name": "python3"
  },
  "language_info": {
   "codemirror_mode": {
    "name": "ipython",
    "version": 3
   },
   "file_extension": ".py",
   "mimetype": "text/x-python",
   "name": "python",
   "nbconvert_exporter": "python",
   "pygments_lexer": "ipython3",
   "version": "3.9.10"
  }
 },
 "nbformat": 4,
 "nbformat_minor": 5
}
