{
 "cells": [
  {
   "cell_type": "markdown",
   "id": "8993dc4c",
   "metadata": {},
   "source": [
    "`Group #: 7`\n",
    "\n",
    "`Noctis Yamazaki` : `002105657`\n",
    "\n",
    "`Zhen Luo`: `001528318`\n",
    "\n",
    "`Jing Dai`: `001569042`\n",
    "\n",
    "# Path To eSports Monetization"
   ]
  },
  {
   "cell_type": "markdown",
   "id": "298f7b93",
   "metadata": {},
   "source": [
    "## 0. Introduction\n",
    "\n",
    "Many of us are cultured people, and there are many things we like in the digital world. Indeed, some of the products would indeed use some special features to captivate our minds, and ultimately, our wallets.\n",
    "\n",
    "![overbutts](images/ob.jpg)\n",
    "\n",
    "Those special features can give you a blast for a short time. However, once you engage in the game, you rarely have the opportunities to enjoy those features as the combats require your physical attentions. Therefore, you might wonder, when the fun goes away, how would you entertain yourself or get any use out of it?\n",
    "\n",
    "![seagull](images/seagull.jpg)\n",
    "\n",
    "However, by the turn of 2016, things change radically as the eSports industry expanded rapidly. And Brandon Larned used his personal experiences to skew the major expected benefits of obtaining a degree in Computer Science in a reputable school. Then you might wonder, if I could live off with Σουβλάκι made by your μητέρα, or मसाला from your दादी मा, then you could make a fortune by just playing for the wins with no cost. Cuz otherwise, your dad Steven might say, \"You such a failure!\" in angry voice.\n",
    "\n",
    "If you had performed some sort of analysis, you would find out that there were 2 major ways to monetize the game:\n",
    "\n",
    "* Fatasy Sports (But often time gambling)\n",
    "\n",
    "* Play competitive games and become a streamer or pro-gamer\n",
    "\n",
    "Then, what kinds of skills are necessary to fuel your ambitions? Let's dive into it."
   ]
  }
 ],
 "metadata": {
  "kernelspec": {
   "display_name": "Python 3 (ipykernel)",
   "language": "python",
   "name": "python3"
  },
  "language_info": {
   "codemirror_mode": {
    "name": "ipython",
    "version": 3
   },
   "file_extension": ".py",
   "mimetype": "text/x-python",
   "name": "python",
   "nbconvert_exporter": "python",
   "pygments_lexer": "ipython3",
   "version": "3.9.10"
  }
 },
 "nbformat": 4,
 "nbformat_minor": 5
}
