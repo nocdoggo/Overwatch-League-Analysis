{
 "cells": [
  {
   "cell_type": "markdown",
   "id": "b979f2c8",
   "metadata": {},
   "source": [
    "## 5. Project Conclusion"
   ]
  },
  {
   "cell_type": "markdown",
   "id": "45e6c2b7",
   "metadata": {},
   "source": [
    "After all, some of the modeling work we have conducted matchs with our expectation based on t-test and other visualization. However, there are some minor issues which leave us something to desire. Let's talk about the performance, the accuracy, and possible future improvement about the project."
   ]
  },
  {
   "cell_type": "markdown",
   "id": "01a914c6",
   "metadata": {},
   "source": [
    "### 5.1 Match Prediction\n",
    "\n",
    "It is clear that there are player transferring from one club to anothor occasionally. Therefore, in the future it would be interesting to trace the list of players involved in matches, and possibly model the winning rate based on individual players.\n",
    "\n",
    "Why it is not done in this case? Given the shear amount of data we have for this project, it will increase the complexity of the model significantly. As a result, it will become unmanagable for us. (or I am just being a slacker due to the awkward amount of work for CSYE6225 Cloud Computing.)\n",
    "\n",
    "And as discussed previously in Section 2, it is practical for us to improve the accuracy of the model further when match making rules are less volatile, and more data can be collected for the game. (Well, we certainly hope Overwatch 2 will last longer.)"
   ]
  },
  {
   "cell_type": "markdown",
   "id": "efe0e3f7",
   "metadata": {},
   "source": [
    "### 5.2 Hero Stats Analysis\n",
    "\n",
    "Well, certainly as mentioned previously that the Linear Regression does not work as intended for many reasons. Therefore, we switched to the method of Random Forest instead. However, it does not mean that we cannot further improve the Linear Regression model for our use."
   ]
  },
  {
   "cell_type": "markdown",
   "id": "5973012e",
   "metadata": {},
   "source": [
    "### 5.2.1 Contribution Re-advised\n",
    "\n",
    "Remember that the winning rate was calculated based on the round score. Many matches might go overtime, and the match scores are, how to say, do not have too much of variation. Therefore, it could be better to re-do the winning rate based on a more fair contribution. Otherwise, our model will continue to go kaboom. Previously, we imagine that the contribution for all players are the same. However, sometimes, players would change heros adaptively based on the improvized strategies.\n",
    "\n",
    "We can calculate the contribution based on the following function instead\n",
    "\n",
    "```python \n",
    "def cal_contribution(total_data):\n",
    "  contribution = []\n",
    "  temp_data = total_data[total_data['stat_name'] == 'Time Played']\n",
    "  a = temp_data.groupby(by=['match_id','map_name','team']).sum()\n",
    "  b = temp_data.groupby(by=['match_id','map_name','team','hero']).sum()\n",
    "  for row in total_data.iterrows():\n",
    "    match_id = row[1]['match_id']\n",
    "    team = row[1]['team']\n",
    "    map_name = row[1]['map_name']\n",
    "    hero_name = row[1]['hero']\n",
    "    try:\n",
    "      total_time = a.loc[match_id].loc[map_name,team].iloc[0]\n",
    "    except:\n",
    "      print('total_time:' + str(match_id) + map_name+ team + hero_name)\n",
    "    try:\n",
    "      hero_time = b.loc[match_id,map_name].loc[team,hero_name].iloc[0]\n",
    "    except:\n",
    "      print('hero_time:' + str(match_id)  + map_name + team + hero_name)\n",
    "    contribution.append(hero_time/total_time)\n",
    "  total_data['contribution']=contribution\n",
    "  return total_data\n",
    "```\n",
    "\n",
    "In this way, the winning rate can be adjusted based on the weight calculated above. This will expand the range and variety of the winning rate so that our model can be distributed more properly and thus possibly yield a higher accuracy for the Linear Regression model.\n",
    "\n",
    "Or, we could use kNN classification to label the outcomes of the matches instead. Therefore, it could be more interesting to see what is it."
   ]
  },
  {
   "cell_type": "markdown",
   "id": "50a6e704",
   "metadata": {},
   "source": [
    "### 5.2.2 Combo Stats Analysis\n",
    "\n",
    "It is important to acknowledge that one action can contribute to many stats variables. And sometimes, one variable is liable to multiple types of actions.\n",
    "\n",
    "With future studies, we might be able to combine two or more stats together to see if the overall accuracy will be improved. "
   ]
  },
  {
   "cell_type": "markdown",
   "id": "b81e71fe",
   "metadata": {},
   "source": [
    "### 5.3 Final Words\n",
    "\n",
    "Do not gamble, don't do fantasy sports if you ain't good at math. \n",
    "\n",
    "![NO](images/noooo.png)"
   ]
  },
  {
   "cell_type": "markdown",
   "id": "1fc560d3",
   "metadata": {},
   "source": [
    "However, you can definitely get better in the games if you play with your brain power, well, not to be confused with the song _Brain Power by NOMA_. :)\n",
    "\n",
    "Games can be sports as they require many forms of trainning and other strategies for you to strive. Otherwise, you will be stuck in your бабушка's basement forever living under poverty.\n",
    "\n",
    "And I certainly hope that many of you will become successful streamers. I was once in the top of the game, however, due to the nature that I am poor at talking to people, so I had to give up my dream. As many of you have demonstrated your outstanding communication skills, wish y'al for the best in Overwatch 2, or any other competitive games.\n",
    "\n",
    "![overbuff](images/overbuff.jpeg)"
   ]
  }
 ],
 "metadata": {
  "kernelspec": {
   "display_name": "Python 3 (ipykernel)",
   "language": "python",
   "name": "python3"
  },
  "language_info": {
   "codemirror_mode": {
    "name": "ipython",
    "version": 3
   },
   "file_extension": ".py",
   "mimetype": "text/x-python",
   "name": "python",
   "nbconvert_exporter": "python",
   "pygments_lexer": "ipython3",
   "version": "3.9.10"
  }
 },
 "nbformat": 4,
 "nbformat_minor": 5
}
