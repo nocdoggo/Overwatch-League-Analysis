{
 "cells": [
  {
   "cell_type": "markdown",
   "metadata": {},
   "source": [
    "## 3. Hero-wise Skill Analysis Based On Linear Regression\n",
    "\n",
    "\n",
    "### 3.1 Data Cleansing\n",
    "\n",
    "Before we start our process of modeling, there are some steps we should do, data cleaning is one of the important part.\n",
    "\n",
    "Data cleansing is the process of replacing raw data with higher quality usable data, and is a crucial part of data pre-processing, the quality of the cleaned data largely determines the accuracy of the results of analysis.\n",
    "\n",
    "The data set of heroes statistic we use is in a tiled continuous table with every single stat amount, which is detailed enough to have redundant parts including non-essential information and some data that will affect the accuracy of the results. So, our first step is to delete these content.\n",
    "\n",
    "After that the analysis starts. We first assume that each data is highly positively correlated with the results. Therefore, we tried simple Linear Regression to map the hero-wise skills with their winning rate in the OWL season 2019-2020."
   ]
  },
  {
   "cell_type": "code",
   "execution_count": 1,
   "metadata": {},
   "outputs": [],
   "source": [
    "import pandas as pd\n",
    "import numpy as np\n",
    "import pymc3 as pm\n",
    "import matplotlib.pyplot as plt"
   ]
  },
  {
   "cell_type": "markdown",
   "metadata": {},
   "source": [
    "function name: pre_cleansing\n",
    "\n",
    "Description:\n",
    "\n",
    "The function cleans the match statistics data and removes the ones that have low to no information for a given match。\n",
    "\n",
    "Input:\n",
    "\n",
    "1. Match_stats [DataFrame]: It includes all the players' information for all matches of a given year.\n",
    "\n",
    "Output:\n",
    "\n",
    "1. Match_stats_sanitized [DataFrame]: It includes the cleaned data."
   ]
  },
  {
   "cell_type": "markdown",
   "metadata": {},
   "source": [
    "The dataset we use about hero data is composed of the values that can be collected for each hero used by each player, for each match.\n",
    "\n",
    "Since in Overwatch, it is possible to change characters after death, so there are cases where the character dies quickly after changing. In these cases, many values cannot be measured. And for a hero only lived for a moment, the contribution they did to the game is negligible.\n",
    "\n",
    "Therefore, we tried to exclude such cases from the data based on how to judge a range of table should be drop or not.\n",
    "\n",
    "Here we use two metrics as parameters to measure and judge: player survival time and the number of retained record data."
   ]
  },
  {
   "cell_type": "code",
   "execution_count": 2,
   "metadata": {},
   "outputs": [],
   "source": [
    "def data_pre_cleansing(Match_stats):    \n",
    "    drop_list =[]\n",
    "    hero = Match_stats.loc[0,'hero']\n",
    "    flag = False\n",
    "\n",
    "    # Delete range\n",
    "    range_begin = 0\n",
    "    range_end = 0\n",
    "\n",
    "    for index, row in Match_stats.iterrows():\n",
    "        # If Alive Time < 30 sec\n",
    "        if(row.stat_name == 'Time Alive'):\n",
    "            if(row.stat_amount < 30):\n",
    "                flag = True\n",
    "        if(row.stat_name == 'Time Played'):\n",
    "            if(row.stat_amount < 30):\n",
    "                flag = True        \n",
    "\n",
    "        if(row.hero!= hero):\n",
    "            hero = row.hero\n",
    "            range_end = index-1\n",
    "\n",
    "        # If stat less than 6\n",
    "            if((range_end-range_begin+1)< 6): \n",
    "                flag = True\n",
    "\n",
    "            if(flag):\n",
    "                # print(range_begin,'-',range_end)\n",
    "                drop_list.append((range_begin,range_end))\n",
    "            range_begin = index\n",
    "            flag = False\n",
    "        if index == Match_stats.index[-1]:\n",
    "            if(flag):\n",
    "                drop_list.append((range_begin,index))\n",
    "    return drop_list\n",
    "\n",
    "def drop_data(list,data):\n",
    "    full_drop_list = []\n",
    "    for pair in list:\n",
    "        for x in range(pair[0],pair[1]): \n",
    "            full_drop_list.append(x)\n",
    "    return data.drop(full_drop_list,axis=0)\n",
    "\n",
    "def pre_cleansing(Match_stats):\n",
    "    drop_list = data_pre_cleansing(Match_stats)\n",
    "    return drop_data(drop_list,Match_stats) "
   ]
  },
  {
   "cell_type": "markdown",
   "metadata": {},
   "source": [
    "To find out the specific threshold of how long do they live in digital should we ignore about?\n",
    "\n",
    "In that case, we plot all the played time for games and try to find out by that."
   ]
  },
  {
   "cell_type": "code",
   "execution_count": 35,
   "metadata": {},
   "outputs": [
    {
     "data": {
      "image/png": "[encoded data removed]",
      "text/plain": [
       "<Figure size 1800x432 with 1 Axes>"
      ]
     },
     "metadata": {
      "needs_background": "light"
     },
     "output_type": "display_data"
    }
   ],
   "source": [
    "phs_2021 = pd.read_csv('Data/phs_2021_1.csv')\n",
    "\n",
    "# Plot all the alive time to see the regular distribution.\n",
    "alive_time = phs_2021.loc[phs_2021['stat_name']=='Time Alive',['stat_amount']]\n",
    "fig, ax = plt.subplots(figsize=(25,6)) \n",
    "plt.hist(alive_time, bins=500,facecolor=\"steelblue\", edgecolor=\"black\",alpha=0.6)\n",
    "plt.xlabel(\"Alive Time\")\n",
    "plt.show()"
   ]
  },
  {
   "cell_type": "markdown",
   "metadata": {},
   "source": [
    "We can see from the histogram that most of the Survival time roughly follow Normal distribution, the abnormal peak occurs at the very beginning, in the cases of rapid death.\n",
    "\n",
    "Then we zoom in the unusual part which is around 0 - 100."
   ]
  },
  {
   "cell_type": "code",
   "execution_count": 36,
   "metadata": {},
   "outputs": [
    {
     "data": {
      "image/png": "[encoded data removed]",
      "text/plain": [
       "<Figure size 1440x432 with 1 Axes>"
      ]
     },
     "metadata": {
      "needs_background": "light"
     },
     "output_type": "display_data"
    }
   ],
   "source": [
    "alive_time = alive_time.loc[alive_time['stat_amount']<100]\n",
    "fig, ax = plt.subplots(figsize=(20,6)) \n",
    "plt.hist(alive_time, bins=150,facecolor=\"blue\", edgecolor=\"black\",alpha=0.6)\n",
    "plt.xlabel(\"Alive Time\")\n",
    "plt.show()"
   ]
  },
  {
   "cell_type": "markdown",
   "metadata": {},
   "source": [
    "From the chart above we can see that the right part of 0-100 is around average, after a small wave between 20 and 40 it became more stable.\n",
    "\n",
    "Therefore, we choose 30 as our threshold to remove special cases."
   ]
  },
  {
   "cell_type": "code",
   "execution_count": 37,
   "metadata": {},
   "outputs": [],
   "source": [
    "phs_2019 = pd.read_csv('Data/phs_2019_playoffs.csv')\n",
    "phs_2020_1 = pd.read_csv('Data/phs_2020_1.csv')\n",
    "phs_2020_2 = pd.read_csv('Data/phs_2020_2.csv')"
   ]
  },
  {
   "cell_type": "markdown",
   "metadata": {},
   "source": [
    "Then, because we are going to use every single hero's data set, removed 'All Heroes' summary data part and the unuseful columns in the set."
   ]
  },
  {
   "cell_type": "markdown",
   "metadata": {},
   "source": [
    "Function name: cleaning_aft\n",
    "\n",
    "Description: \n",
    "\n",
    "This function aims at removing outliers and noise in the datasets. It is possible that some of the players switched heros temporarily. As a result, due to the short play time, it is possible that many stats of the gameplay have yet to become available. Therefore, to reduce the influence on the overall modeling, gameplay less than 30 seconds, or stats less than 6 variables will be removed.\n",
    "\n",
    "Input:\n",
    "\n",
    "1. csv_before [DataFrame]: It includes the data from gameplays collected from 2019 and 2020.\n",
    "\n",
    "Output:\n",
    "\n",
    "1. csv_before [DataFrame]: The sanitized data based on filtering rules."
   ]
  },
  {
   "cell_type": "code",
   "execution_count": 38,
   "metadata": {},
   "outputs": [],
   "source": [
    "def cleaning_aft(csv_before):\n",
    "    csv_before = pre_cleansing(csv_before) \n",
    "    csv_before.drop(columns=['start_time','stage','map_type'],inplace=True)\n",
    "    csv_before.drop(csv_before[(csv_before.hero == \"All Heroes\")].index, inplace=True) \n",
    "    return csv_before"
   ]
  },
  {
   "cell_type": "code",
   "execution_count": null,
   "metadata": {},
   "outputs": [],
   "source": [
    "clean_df_2019 = cleaning_aft(phs_2019)\n",
    "clean_df_2020_1 = cleaning_aft(phs_2020_1)\n",
    "clean_df_2020_2 = cleaning_aft(phs_2020_2)\n",
    "# clean_df_2021 = cleaning_aft(phs_2021)"
   ]
  },
  {
   "cell_type": "code",
   "execution_count": 54,
   "metadata": {},
   "outputs": [
    {
     "data": {
      "text/html": [
       "<div>\n",
       "<style scoped>\n",
       "    .dataframe tbody tr th:only-of-type {\n",
       "        vertical-align: middle;\n",
       "    }\n",
       "\n",
       "    .dataframe tbody tr th {\n",
       "        vertical-align: top;\n",
       "    }\n",
       "\n",
       "    .dataframe thead th {\n",
       "        text-align: right;\n",
       "    }\n",
       "</style>\n",
       "<table border=\"1\" class=\"dataframe\">\n",
       "  <thead>\n",
       "    <tr style=\"text-align: right;\">\n",
       "      <th></th>\n",
       "      <th>match_id</th>\n",
       "      <th>map_name</th>\n",
       "      <th>player</th>\n",
       "      <th>team</th>\n",
       "      <th>stat_name</th>\n",
       "      <th>hero</th>\n",
       "      <th>stat_amount</th>\n",
       "    </tr>\n",
       "  </thead>\n",
       "  <tbody>\n",
       "    <tr>\n",
       "      <th>28</th>\n",
       "      <td>30172</td>\n",
       "      <td>Ilios</td>\n",
       "      <td>Elsa</td>\n",
       "      <td>Chengdu Hunters</td>\n",
       "      <td>All Damage Done</td>\n",
       "      <td>D.Va</td>\n",
       "      <td>13934.906430</td>\n",
       "    </tr>\n",
       "    <tr>\n",
       "      <th>29</th>\n",
       "      <td>30172</td>\n",
       "      <td>Ilios</td>\n",
       "      <td>Elsa</td>\n",
       "      <td>Chengdu Hunters</td>\n",
       "      <td>Assists</td>\n",
       "      <td>D.Va</td>\n",
       "      <td>15.000000</td>\n",
       "    </tr>\n",
       "    <tr>\n",
       "      <th>30</th>\n",
       "      <td>30172</td>\n",
       "      <td>Ilios</td>\n",
       "      <td>Elsa</td>\n",
       "      <td>Chengdu Hunters</td>\n",
       "      <td>Average Time Alive</td>\n",
       "      <td>D.Va</td>\n",
       "      <td>569.509017</td>\n",
       "    </tr>\n",
       "    <tr>\n",
       "      <th>31</th>\n",
       "      <td>30172</td>\n",
       "      <td>Ilios</td>\n",
       "      <td>Elsa</td>\n",
       "      <td>Chengdu Hunters</td>\n",
       "      <td>Barrier Damage Done</td>\n",
       "      <td>D.Va</td>\n",
       "      <td>6703.071256</td>\n",
       "    </tr>\n",
       "    <tr>\n",
       "      <th>32</th>\n",
       "      <td>30172</td>\n",
       "      <td>Ilios</td>\n",
       "      <td>Elsa</td>\n",
       "      <td>Chengdu Hunters</td>\n",
       "      <td>Critical Hit Accuracy</td>\n",
       "      <td>D.Va</td>\n",
       "      <td>0.092603</td>\n",
       "    </tr>\n",
       "    <tr>\n",
       "      <th>...</th>\n",
       "      <td>...</td>\n",
       "      <td>...</td>\n",
       "      <td>...</td>\n",
       "      <td>...</td>\n",
       "      <td>...</td>\n",
       "      <td>...</td>\n",
       "      <td>...</td>\n",
       "    </tr>\n",
       "    <tr>\n",
       "      <th>473159</th>\n",
       "      <td>35552</td>\n",
       "      <td>Hollywood</td>\n",
       "      <td>tobi</td>\n",
       "      <td>Seoul Dynasty</td>\n",
       "      <td>Time Played</td>\n",
       "      <td>Mercy</td>\n",
       "      <td>919.875289</td>\n",
       "    </tr>\n",
       "    <tr>\n",
       "      <th>473160</th>\n",
       "      <td>35552</td>\n",
       "      <td>Hollywood</td>\n",
       "      <td>tobi</td>\n",
       "      <td>Seoul Dynasty</td>\n",
       "      <td>Ultimates Earned - Fractional</td>\n",
       "      <td>Mercy</td>\n",
       "      <td>4.811592</td>\n",
       "    </tr>\n",
       "    <tr>\n",
       "      <th>473161</th>\n",
       "      <td>35552</td>\n",
       "      <td>Hollywood</td>\n",
       "      <td>tobi</td>\n",
       "      <td>Seoul Dynasty</td>\n",
       "      <td>Ultimates Used</td>\n",
       "      <td>Mercy</td>\n",
       "      <td>4.000000</td>\n",
       "    </tr>\n",
       "    <tr>\n",
       "      <th>473162</th>\n",
       "      <td>35552</td>\n",
       "      <td>Hollywood</td>\n",
       "      <td>tobi</td>\n",
       "      <td>Seoul Dynasty</td>\n",
       "      <td>Valkyrie Healing Efficiency</td>\n",
       "      <td>Mercy</td>\n",
       "      <td>301.680441</td>\n",
       "    </tr>\n",
       "    <tr>\n",
       "      <th>473163</th>\n",
       "      <td>35552</td>\n",
       "      <td>Hollywood</td>\n",
       "      <td>tobi</td>\n",
       "      <td>Seoul Dynasty</td>\n",
       "      <td>Weapon Accuracy</td>\n",
       "      <td>Mercy</td>\n",
       "      <td>0.368421</td>\n",
       "    </tr>\n",
       "  </tbody>\n",
       "</table>\n",
       "<p>880537 rows × 7 columns</p>\n",
       "</div>"
      ],
      "text/plain": [
       "        match_id   map_name player             team  \\\n",
       "28         30172      Ilios   Elsa  Chengdu Hunters   \n",
       "29         30172      Ilios   Elsa  Chengdu Hunters   \n",
       "30         30172      Ilios   Elsa  Chengdu Hunters   \n",
       "31         30172      Ilios   Elsa  Chengdu Hunters   \n",
       "32         30172      Ilios   Elsa  Chengdu Hunters   \n",
       "...          ...        ...    ...              ...   \n",
       "473159     35552  Hollywood   tobi    Seoul Dynasty   \n",
       "473160     35552  Hollywood   tobi    Seoul Dynasty   \n",
       "473161     35552  Hollywood   tobi    Seoul Dynasty   \n",
       "473162     35552  Hollywood   tobi    Seoul Dynasty   \n",
       "473163     35552  Hollywood   tobi    Seoul Dynasty   \n",
       "\n",
       "                            stat_name   hero   stat_amount  \n",
       "28                    All Damage Done   D.Va  13934.906430  \n",
       "29                            Assists   D.Va     15.000000  \n",
       "30                 Average Time Alive   D.Va    569.509017  \n",
       "31                Barrier Damage Done   D.Va   6703.071256  \n",
       "32              Critical Hit Accuracy   D.Va      0.092603  \n",
       "...                               ...    ...           ...  \n",
       "473159                    Time Played  Mercy    919.875289  \n",
       "473160  Ultimates Earned - Fractional  Mercy      4.811592  \n",
       "473161                 Ultimates Used  Mercy      4.000000  \n",
       "473162    Valkyrie Healing Efficiency  Mercy    301.680441  \n",
       "473163                Weapon Accuracy  Mercy      0.368421  \n",
       "\n",
       "[880537 rows x 7 columns]"
      ]
     },
     "execution_count": 54,
     "metadata": {},
     "output_type": "execute_result"
    }
   ],
   "source": [
    "frames = [clean_df_2019, clean_df_2020_1,clean_df_2020_2]\n",
    "total_data = pd.concat(frames)\n",
    "total_data"
   ]
  },
  {
   "cell_type": "code",
   "execution_count": 41,
   "metadata": {},
   "outputs": [
    {
     "data": {
      "text/plain": [
       "array(['D.Va', 'Sigma', 'Doomfist', 'Junkrat', 'Pharah', 'Lúcio', 'Moira',\n",
       "       'Sombra', 'Symmetra', 'Baptiste', 'Mercy', 'Orisa',\n",
       "       'Wrecking Ball', 'Zarya', 'Reaper', 'Tracer', 'Ana', 'Winston',\n",
       "       'McCree', 'Widowmaker', 'Ashe', 'Mei', 'Hanzo', 'Bastion',\n",
       "       'Brigitte', 'Reinhardt', 'Zenyatta', 'Roadhog', 'Genji',\n",
       "       'Soldier: 76', 'Torbjörn', 'Echo'], dtype=object)"
      ]
     },
     "execution_count": 41,
     "metadata": {},
     "output_type": "execute_result"
    }
   ],
   "source": [
    "total_data.hero.unique()"
   ]
  },
  {
   "cell_type": "code",
   "execution_count": 42,
   "metadata": {},
   "outputs": [
    {
     "name": "stdout",
     "output_type": "stream",
     "text": [
      "number of different match_id: 564\n"
     ]
    }
   ],
   "source": [
    "# number of different match_id\n",
    "print('number of different match_id:', total_data.match_id.nunique())"
   ]
  },
  {
   "cell_type": "code",
   "execution_count": 43,
   "metadata": {},
   "outputs": [
    {
     "data": {
      "text/plain": [
       "30175    6709\n",
       "37386    6023\n",
       "34516    5979\n",
       "37445    5362\n",
       "34515    5331\n",
       "         ... \n",
       "36201      54\n",
       "36205      54\n",
       "36202      39\n",
       "36197      38\n",
       "36221      37\n",
       "Name: match_id, Length: 564, dtype: int64"
      ]
     },
     "execution_count": 43,
     "metadata": {},
     "output_type": "execute_result"
    }
   ],
   "source": [
    "# number of records in each match_id\n",
    "total_data.match_id.value_counts()"
   ]
  },
  {
   "cell_type": "code",
   "execution_count": 44,
   "metadata": {},
   "outputs": [
    {
     "data": {
      "text/html": [
       "<div>\n",
       "<style scoped>\n",
       "    .dataframe tbody tr th:only-of-type {\n",
       "        vertical-align: middle;\n",
       "    }\n",
       "\n",
       "    .dataframe tbody tr th {\n",
       "        vertical-align: top;\n",
       "    }\n",
       "\n",
       "    .dataframe thead th {\n",
       "        text-align: right;\n",
       "    }\n",
       "</style>\n",
       "<table border=\"1\" class=\"dataframe\">\n",
       "  <thead>\n",
       "    <tr style=\"text-align: right;\">\n",
       "      <th></th>\n",
       "      <th>match_year</th>\n",
       "      <th>match_id</th>\n",
       "      <th>map_name</th>\n",
       "      <th>map_winner</th>\n",
       "      <th>winning_team_final_map_score</th>\n",
       "      <th>winning_team_win_rate</th>\n",
       "      <th>map_loser</th>\n",
       "      <th>losing_team_final_map_score</th>\n",
       "      <th>losing_team_win_rate</th>\n",
       "    </tr>\n",
       "  </thead>\n",
       "  <tbody>\n",
       "    <tr>\n",
       "      <th>0</th>\n",
       "      <td>2018</td>\n",
       "      <td>10223</td>\n",
       "      <td>Dorado</td>\n",
       "      <td>Los Angeles Valiant</td>\n",
       "      <td>3</td>\n",
       "      <td>0.600000</td>\n",
       "      <td>San Francisco Shock</td>\n",
       "      <td>2</td>\n",
       "      <td>0.400000</td>\n",
       "    </tr>\n",
       "    <tr>\n",
       "      <th>1</th>\n",
       "      <td>2018</td>\n",
       "      <td>10223</td>\n",
       "      <td>Temple of Anubis</td>\n",
       "      <td>Los Angeles Valiant</td>\n",
       "      <td>4</td>\n",
       "      <td>0.571429</td>\n",
       "      <td>San Francisco Shock</td>\n",
       "      <td>3</td>\n",
       "      <td>0.428571</td>\n",
       "    </tr>\n",
       "    <tr>\n",
       "      <th>2</th>\n",
       "      <td>2018</td>\n",
       "      <td>10223</td>\n",
       "      <td>Ilios</td>\n",
       "      <td>Los Angeles Valiant</td>\n",
       "      <td>2</td>\n",
       "      <td>0.666667</td>\n",
       "      <td>San Francisco Shock</td>\n",
       "      <td>1</td>\n",
       "      <td>0.333333</td>\n",
       "    </tr>\n",
       "    <tr>\n",
       "      <th>3</th>\n",
       "      <td>2018</td>\n",
       "      <td>10223</td>\n",
       "      <td>Numbani</td>\n",
       "      <td>Los Angeles Valiant</td>\n",
       "      <td>2</td>\n",
       "      <td>0.666667</td>\n",
       "      <td>San Francisco Shock</td>\n",
       "      <td>1</td>\n",
       "      <td>0.333333</td>\n",
       "    </tr>\n",
       "    <tr>\n",
       "      <th>4</th>\n",
       "      <td>2018</td>\n",
       "      <td>10224</td>\n",
       "      <td>Dorado</td>\n",
       "      <td>Los Angeles Gladiators</td>\n",
       "      <td>1</td>\n",
       "      <td>1.000000</td>\n",
       "      <td>Shanghai Dragons</td>\n",
       "      <td>0</td>\n",
       "      <td>0.000000</td>\n",
       "    </tr>\n",
       "    <tr>\n",
       "      <th>...</th>\n",
       "      <td>...</td>\n",
       "      <td>...</td>\n",
       "      <td>...</td>\n",
       "      <td>...</td>\n",
       "      <td>...</td>\n",
       "      <td>...</td>\n",
       "      <td>...</td>\n",
       "      <td>...</td>\n",
       "      <td>...</td>\n",
       "    </tr>\n",
       "    <tr>\n",
       "      <th>4511</th>\n",
       "      <td>2021</td>\n",
       "      <td>37442</td>\n",
       "      <td>Dorado</td>\n",
       "      <td>Atlanta Reign</td>\n",
       "      <td>3</td>\n",
       "      <td>0.600000</td>\n",
       "      <td>Dallas Fuel</td>\n",
       "      <td>2</td>\n",
       "      <td>0.400000</td>\n",
       "    </tr>\n",
       "    <tr>\n",
       "      <th>4512</th>\n",
       "      <td>2021</td>\n",
       "      <td>37441</td>\n",
       "      <td>Ilios</td>\n",
       "      <td>Shanghai Dragons</td>\n",
       "      <td>2</td>\n",
       "      <td>1.000000</td>\n",
       "      <td>Atlanta Reign</td>\n",
       "      <td>0</td>\n",
       "      <td>0.000000</td>\n",
       "    </tr>\n",
       "    <tr>\n",
       "      <th>4513</th>\n",
       "      <td>2021</td>\n",
       "      <td>37441</td>\n",
       "      <td>Hanamura</td>\n",
       "      <td>Shanghai Dragons</td>\n",
       "      <td>3</td>\n",
       "      <td>0.600000</td>\n",
       "      <td>Atlanta Reign</td>\n",
       "      <td>2</td>\n",
       "      <td>0.400000</td>\n",
       "    </tr>\n",
       "    <tr>\n",
       "      <th>4514</th>\n",
       "      <td>2021</td>\n",
       "      <td>37441</td>\n",
       "      <td>King's Row</td>\n",
       "      <td>Shanghai Dragons</td>\n",
       "      <td>6</td>\n",
       "      <td>0.545455</td>\n",
       "      <td>Atlanta Reign</td>\n",
       "      <td>5</td>\n",
       "      <td>0.454545</td>\n",
       "    </tr>\n",
       "    <tr>\n",
       "      <th>4515</th>\n",
       "      <td>2021</td>\n",
       "      <td>37441</td>\n",
       "      <td>Havana</td>\n",
       "      <td>Shanghai Dragons</td>\n",
       "      <td>3</td>\n",
       "      <td>0.600000</td>\n",
       "      <td>Atlanta Reign</td>\n",
       "      <td>2</td>\n",
       "      <td>0.400000</td>\n",
       "    </tr>\n",
       "  </tbody>\n",
       "</table>\n",
       "<p>4516 rows × 9 columns</p>\n",
       "</div>"
      ],
      "text/plain": [
       "      match_year  match_id          map_name              map_winner  \\\n",
       "0           2018     10223            Dorado     Los Angeles Valiant   \n",
       "1           2018     10223  Temple of Anubis     Los Angeles Valiant   \n",
       "2           2018     10223             Ilios     Los Angeles Valiant   \n",
       "3           2018     10223           Numbani     Los Angeles Valiant   \n",
       "4           2018     10224            Dorado  Los Angeles Gladiators   \n",
       "...          ...       ...               ...                     ...   \n",
       "4511        2021     37442            Dorado           Atlanta Reign   \n",
       "4512        2021     37441             Ilios        Shanghai Dragons   \n",
       "4513        2021     37441          Hanamura        Shanghai Dragons   \n",
       "4514        2021     37441        King's Row        Shanghai Dragons   \n",
       "4515        2021     37441            Havana        Shanghai Dragons   \n",
       "\n",
       "      winning_team_final_map_score  winning_team_win_rate  \\\n",
       "0                                3               0.600000   \n",
       "1                                4               0.571429   \n",
       "2                                2               0.666667   \n",
       "3                                2               0.666667   \n",
       "4                                1               1.000000   \n",
       "...                            ...                    ...   \n",
       "4511                             3               0.600000   \n",
       "4512                             2               1.000000   \n",
       "4513                             3               0.600000   \n",
       "4514                             6               0.545455   \n",
       "4515                             3               0.600000   \n",
       "\n",
       "                map_loser  losing_team_final_map_score  losing_team_win_rate  \n",
       "0     San Francisco Shock                            2              0.400000  \n",
       "1     San Francisco Shock                            3              0.428571  \n",
       "2     San Francisco Shock                            1              0.333333  \n",
       "3     San Francisco Shock                            1              0.333333  \n",
       "4        Shanghai Dragons                            0              0.000000  \n",
       "...                   ...                          ...                   ...  \n",
       "4511          Dallas Fuel                            2              0.400000  \n",
       "4512        Atlanta Reign                            0              0.000000  \n",
       "4513        Atlanta Reign                            2              0.400000  \n",
       "4514        Atlanta Reign                            5              0.454545  \n",
       "4515        Atlanta Reign                            2              0.400000  \n",
       "\n",
       "[4516 rows x 9 columns]"
      ]
     },
     "execution_count": 44,
     "metadata": {},
     "output_type": "execute_result"
    }
   ],
   "source": [
    "match_result = pd.read_csv('annual_match_result_table.csv')\n",
    "match_result"
   ]
  },
  {
   "cell_type": "code",
   "execution_count": 45,
   "metadata": {},
   "outputs": [],
   "source": [
    "def clean_match(hero_name, match_info):\n",
    "    clean_match_df = match_info.merge(match_result.iloc[:, :6], how = 'inner', left_on =['match_id', 'map_name', 'team'], right_on =['match_id', 'map_name', 'map_winner'])\n",
    "    hero_info = clean_match_df[clean_match_df['hero'] == hero_name]\n",
    "    if len(hero_info) == 0:\n",
    "        return 'No record about the hero name: ' + hero_name\n",
    "    else:\n",
    "        return hero_info"
   ]
  },
  {
   "cell_type": "code",
   "execution_count": 46,
   "metadata": {},
   "outputs": [
    {
     "data": {
      "text/plain": [
       "['Ultimates Earned - Fractional',\n",
       " 'Time Played',\n",
       " 'Time Building Ultimate',\n",
       " 'Time Elapsed per Ultimate Earned',\n",
       " 'Time Alive',\n",
       " 'Damage Taken',\n",
       " 'Healing Received',\n",
       " 'All Damage Done',\n",
       " 'Hero Damage Done',\n",
       " 'Average Time Alive',\n",
       " 'Barrier Damage Done']"
      ]
     },
     "execution_count": 46,
     "metadata": {},
     "output_type": "execute_result"
    }
   ],
   "source": [
    "Top_11_stat_name = list(clean_df_2019.stat_name.value_counts()[:11].index)\n",
    "Top_11_stat_name"
   ]
  },
  {
   "cell_type": "code",
   "execution_count": 47,
   "metadata": {},
   "outputs": [
    {
     "data": {
      "text/plain": [
       "Ultimates Earned - Fractional       2078\n",
       "Time Played                         1789\n",
       "Time Building Ultimate              1787\n",
       "Time Elapsed per Ultimate Earned    1781\n",
       "Time Alive                          1781\n",
       "Damage Taken                        1779\n",
       "Healing Received                    1775\n",
       "All Damage Done                     1758\n",
       "Hero Damage Done                    1755\n",
       "Average Time Alive                  1715\n",
       "Barrier Damage Done                 1702\n",
       "Name: stat_name, dtype: int64"
      ]
     },
     "execution_count": 47,
     "metadata": {},
     "output_type": "execute_result"
    }
   ],
   "source": [
    "# Top 11 stat_name in year 2019 \n",
    "clean_df_2019.stat_name.value_counts()[:11]"
   ]
  },
  {
   "cell_type": "code",
   "execution_count": 48,
   "metadata": {},
   "outputs": [],
   "source": [
    "def prepare_data(data_set):\n",
    "   data_set = data_set[data_set.stat_name.isin(Top_11_stat_name)].iloc[:, [0,1, 4, 6, 10]]\n",
    "   data_set = pd.pivot_table(data_set, values = ['stat_amount'], index = ['match_id', 'map_name','winning_team_win_rate'], columns = ['stat_name'])\n",
    "   data_set = data_set.apply(lambda x: x.fillna(x.mean())) \n",
    "   return data_set"
   ]
  },
  {
   "cell_type": "markdown",
   "metadata": {},
   "source": [
    "There are 11 common stat_name with the highly appearance frequency. we will use these 11 stat_names to do analysis to see the relationhsip between each of them and the winning rate"
   ]
  },
  {
   "cell_type": "markdown",
   "metadata": {},
   "source": [
    "Function name: regression:\n",
    "\n",
    "\n",
    "Description: \n",
    "\n",
    "This function aims at filtering datasets we are gonna use to do linear regression. \n",
    "We do this part for nomarlization, which standarlize every stats by the metric of Time Play and quantify each data with same scale.\n",
    "\n",
    "Input:\n",
    "\n",
    "1. hero,stat_name [String]: Which hero or stat we are going to analyze.\n",
    "\n",
    "Output:\n",
    "\n",
    "1. stat,winning_rate [Array]: Two set of data we use in regression process."
   ]
  },
  {
   "cell_type": "code",
   "execution_count": 49,
   "metadata": {},
   "outputs": [],
   "source": [
    "def regression(hero,stat_name):\n",
    "    data = clean_match(hero,total_data)\n",
    "    data_set = prepare_data(data)\n",
    "    winning_rate = data_set.index.get_level_values(2).to_numpy().reshape(-1, 1)\n",
    "    play_time = data_set.iloc[:, data_set.columns.get_level_values(1)=='Time Played'].values\n",
    "    stat = data_set.iloc[:, data_set.columns.get_level_values(1)== stat_name].values.reshape(-1, 1)/play_time\n",
    "    stat[stat == stat.max()] = stat.mean()\n",
    "    # stat[stat == stat.max()] = stat.mean()\n",
    "    # stat[stat == stat.max()] = stat.mean()\n",
    "    stat[stat == stat.min()] = stat.mean()\n",
    "    return stat,winning_rate\n"
   ]
  },
  {
   "cell_type": "code",
   "execution_count": 50,
   "metadata": {},
   "outputs": [],
   "source": [
    "from sklearn.linear_model import LinearRegression\n",
    "model = LinearRegression()"
   ]
  },
  {
   "cell_type": "code",
   "execution_count": 51,
   "metadata": {},
   "outputs": [],
   "source": [
    "# hero_list = ['D.Va', 'Sigma', 'Doomfist', 'Junkrat', 'Pharah', 'Lúcio', 'Moira','Sombra', 'Symmetra', 'Baptiste', 'Mercy', 'Orisa','Wrecking Ball', 'Zarya', 'Reaper', 'Tracer', 'Ana', 'Winston','McCree', 'Widowmaker', 'Ashe', 'Mei', 'Hanzo', 'Bastion','Brigitte', 'Reinhardt', 'Zenyatta', 'Roadhog', 'Genji','Soldier: 76', 'Torbjörn', 'Echo']\n",
    "# stat_list = ['All Damage Done','Average Time Alive','Barrier Damage Done','Damage Taken','Healing Received','Hero Damage Done','Time Building Ultimate','Time Elapsed per Ultimate Earned']\n",
    "# x = 0\n",
    "# y = 0\n",
    "\n",
    "# fig, axs = plt.subplots(32,8,figsize=(50,200)) \n",
    "# for hero in hero_list:\n",
    "#        for stat in stat_list:\n",
    "#               result = regression(hero,stat)\n",
    "#               stat = result[0]\n",
    "#               winning_rate = result[1]\n",
    "#               model.fit(stat,winning_rate)\n",
    "#               # print(model.score(stat,winning_rate))\n",
    "       \n",
    "              \n",
    "#               axs[y,x].plot(stat,winning_rate,'b.')\n",
    "#               axs[y,x].plot(stat,model.predict(winning_rate))\n",
    "#               x = x+1\n",
    "#        x = 0\n",
    "#        y = y+1\n",
    "# plt.show()\n",
    "           "
   ]
  },
  {
   "cell_type": "code",
   "execution_count": 52,
   "metadata": {},
   "outputs": [
    {
     "data": {
      "image/png": "[encoded data removed]",
      "text/plain": [
       "<Figure size 1440x432 with 1 Axes>"
      ]
     },
     "metadata": {
      "needs_background": "light"
     },
     "output_type": "display_data"
    }
   ],
   "source": [
    "fig, ax = plt.subplots(figsize=(20,6)) \n",
    "result = regression('D.Va','All Damage Done')\n",
    "\n",
    "stat = result[0]\n",
    "winning_rate = result[1]\n",
    "model.fit(stat,winning_rate)\n",
    "    \n",
    "plt.plot(stat,winning_rate,'b.')     \n",
    "plt.show()"
   ]
  },
  {
   "cell_type": "code",
   "execution_count": 53,
   "metadata": {},
   "outputs": [
    {
     "data": {
      "image/png": "[encoded data removed]",
      "text/plain": [
       "<Figure size 1440x432 with 1 Axes>"
      ]
     },
     "metadata": {
      "needs_background": "light"
     },
     "output_type": "display_data"
    }
   ],
   "source": [
    "fig, ax = plt.subplots(figsize=(20,6))\n",
    "plt.plot(stat,winning_rate,'b.')\n",
    "plt.plot(stat,model.predict(winning_rate),'r')       \n",
    "plt.show()"
   ]
  },
  {
   "cell_type": "markdown",
   "metadata": {},
   "source": [
    "The simple Linear Regression doesn't work.\n",
    "\n",
    "why?\n",
    "\n",
    "One direct and obvious reason is, the relationship between Statistics and Winning rate is NOT totally Linear!\n",
    "\n",
    "The way Linear Regression works is by trying to find the weights that lead to the best-fitting line for the input data we have. The best-fitting line is determined in terms of lowest cost. In other words, we are trying to map one independent variable to one dependent variable. \n",
    "\n",
    "When the data's mapping relationship is not linear, the regression won't work.\n",
    "\n",
    "At first glance there is something against common sense that in our feeling，when you perform well in a game, your hero stat will be high and also your chances of winning are high, showing a linear performance.\n",
    "\n",
    "One of the important factor is that, the data we use is from OWL, Overwatch League.\n",
    "\n",
    "In normal gameplay, stats sometimes lead to the outcome, which means the linear mapping sometimes represent a cause-and-effect relationship.\n",
    "\n",
    "But we are talking about League, there is actually not much difference in the various values of ability level among professional e-sports players. What's also at play in the game are teamwork, the timing of various reactions, offensive and defensive tactics, and other subtle and difficult to quantify team performances. \n",
    "\n",
    "In other words, while each statistic in the game still contributes to the winning percentage, it is not a very decisive linear influence anymore."
   ]
  },
  {
   "cell_type": "markdown",
   "metadata": {},
   "source": [
    "Okay, now we know that we can't present the stat in linear way, then we move on the another method to standardlize the contribution of every stat in game which is not depended on linear relationship."
   ]
  }
 ],
 "metadata": {
  "kernelspec": {
   "display_name": "Python 3 (ipykernel)",
   "language": "python",
   "name": "python3"
  },
  "language_info": {
   "codemirror_mode": {
    "name": "ipython",
    "version": 3
   },
   "file_extension": ".py",
   "mimetype": "text/x-python",
   "name": "python",
   "nbconvert_exporter": "python",
   "pygments_lexer": "ipython3",
   "version": "3.9.10"
  }
 },
 "nbformat": 4,
 "nbformat_minor": 2
}
