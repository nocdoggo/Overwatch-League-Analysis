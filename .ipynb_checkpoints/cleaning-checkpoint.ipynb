{
 "cells": [
  {
   "cell_type": "code",
   "execution_count": 1,
   "metadata": {},
   "outputs": [],
   "source": [
    "import pandas as pd"
   ]
  },
  {
   "cell_type": "markdown",
   "metadata": {},
   "source": [
    "function name: pre_cleansing\n",
    "\n",
    "Description:\n",
    "\n",
    "The function cleans the match statistics data and removes the ones that have low to no information for a given match。\n",
    "\n",
    "Input:\n",
    "\n",
    "1. Match_stats [DataFrame]: It includes all the players' information for all matches of a given year.\n",
    "\n",
    "Output:\n",
    "\n",
    "1. Match_stats_sanitized [DataFrame]: It includes the cleaned data."
   ]
  },
  {
   "cell_type": "code",
   "execution_count": null,
   "metadata": {},
   "outputs": [],
   "source": [
    "!pwd"
   ]
  },
  {
   "cell_type": "code",
   "execution_count": null,
   "metadata": {},
   "outputs": [],
   "source": [
    "phs_2019 = pd.read_csv('Data/2019/phs_2019_playoffs.csv')\n",
    "phs_2019.head(10)\n",
    "def pre_cleansing(Match_stats):\n",
    "    # Remove unused columns\n",
    "    Match_stats.drop(columns=['start_time','stage','map_type'],inplace=True)\n",
    "\n",
    "    stat_copy = Match_stats.copy(deep=False)\n",
    "    hero = Match_stats.iat[0,5]\n",
    "    flag = False\n",
    "\n",
    "    # Delete range\n",
    "    range_begin = 0\n",
    "    range_end = 0\n",
    "\n",
    "    for index, row in Match_stats.iterrows():\n",
    "        # If Alive Time < 50 sec\n",
    "        if(row.stat_name == 'Time Alive'):\n",
    "            if(row.stat_amount < 50):\n",
    "                flag = True\n",
    "        \n",
    "        if(row.hero!= hero):\n",
    "            hero = row.hero\n",
    "            range_end = index-1\n",
    "\n",
    "        # If stat less than 6\n",
    "            if((range_end-range_begin+1)< 3): \n",
    "                flag = True\n",
    "\n",
    "            if(flag):\n",
    "                stat_copy.drop(index = range(range_begin,range_end+1),inplace = True)\n",
    "            range_begin = index\n",
    "            flag = False\n",
    "    # Remove All Heroes data\n",
    "    stat_copy.drop(stat_copy[(stat_copy.hero == \"All Heroes\")].index, axis= 0, inplace=True) \n",
    "    return stat_copy\n",
    "pre_cleansing(phs_2019)   "
   ]
  },
  {
   "cell_type": "code",
   "execution_count": null,
   "metadata": {},
   "outputs": [],
   "source": []
  }
 ],
 "metadata": {
  "kernelspec": {
   "display_name": "Python 3 (ipykernel)",
   "language": "python",
   "name": "python3"
  },
  "language_info": {
   "codemirror_mode": {
    "name": "ipython",
    "version": 3
   },
   "file_extension": ".py",
   "mimetype": "text/x-python",
   "name": "python",
   "nbconvert_exporter": "python",
   "pygments_lexer": "ipython3",
   "version": "3.9.7"
  }
 },
 "nbformat": 4,
 "nbformat_minor": 2
}
